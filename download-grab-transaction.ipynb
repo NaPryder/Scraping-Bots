{
 "cells": [
  {
   "cell_type": "code",
   "execution_count": 2,
   "id": "9ee4f50d-c60c-478e-8d7d-e1db21fbbeb6",
   "metadata": {},
   "outputs": [],
   "source": [
    "#import\n",
    "from selenium import webdriver\n",
    "from selenium.webdriver.common.by import By\n",
    "from selenium.webdriver.support.wait import WebDriverWait\n",
    "from selenium.webdriver.support import expected_conditions as EC\n",
    "import time\n",
    "import os"
   ]
  },
  {
   "cell_type": "code",
   "execution_count": null,
   "id": "502f5843-9cc5-42f6-98c6-a044c1028d6e",
   "metadata": {},
   "outputs": [],
   "source": [
    "chrome_options = webdriver.ChromeOptions()\n",
    "# chrome_options.add_argument('--no-sandbox')   # uncomment for diable sandbox\n",
    "# chrome_options.add_argument('--headless')     # uncomment for make selenium run in background\n",
    "chrome_options.add_argument('--disable-gpu')\n",
    "chrome_options.add_argument('--disable-dev-shm-usage')\n",
    "chrome_options.add_argument(\"--window-size=1920,1080\")"
   ]
  },
  {
   "cell_type": "code",
   "execution_count": null,
   "id": "0995fe15-5899-4de4-9ba3-fc733da41221",
   "metadata": {},
   "outputs": [
    {
     "data": {
      "text/plain": [
       "4"
      ]
     },
     "execution_count": 22,
     "metadata": {},
     "output_type": "execute_result"
    }
   ],
   "source": [
    "# input\n",
    "\n",
    "start_date = \"20 Oct 2024\"\n",
    "end_date = \"7 Nov 2024\"\n",
    "username = \"username\"  # input username\n",
    "password = \"password\"  # input password"
   ]
  },
  {
   "cell_type": "code",
   "execution_count": null,
   "id": "304e3669",
   "metadata": {},
   "outputs": [],
   "source": [
    "folder = r'/Users/nachai/Downloads/selenium-downloaded-data'    # donwload folder\n",
    "if not os.path.exists(folder):\n",
    "    os.makedirs(folder)\n",
    "\n",
    "prefs = {'download.default_directory' : folder}\n",
    "chrome_options.add_experimental_option('prefs', prefs)\n",
    "\n",
    "files = len(os.listdir(folder))\n",
    "print(f\"There're {files} files in {folder}\")"
   ]
  },
  {
   "cell_type": "code",
   "execution_count": null,
   "id": "2a92c377-2bef-4f2d-918d-6788ed0df85a",
   "metadata": {},
   "outputs": [],
   "source": [
    "# start web driver\n",
    "driver = webdriver.Chrome(options=chrome_options)\n",
    "\n",
    "driver.get('https://merchant.grab.com/portal')  # grab login url\n",
    "time.sleep(1)"
   ]
  },
  {
   "cell_type": "code",
   "execution_count": 24,
   "id": "533cca5e-8bd0-4510-bb9f-9a1642e4219d",
   "metadata": {},
   "outputs": [],
   "source": [
    "try:\n",
    "    username_input = WebDriverWait(driver, 10).until(\n",
    "        EC.presence_of_element_located((By.ID, \"username\")),\n",
    "        message=\"Cannot access login url - timeout\"\n",
    "    )\n",
    "    username_input.send_keys(username)\n",
    "    time.sleep(1)\n",
    "\n",
    "except Exception as error:\n",
    "    print(\"--- error\",error)\n",
    "    raise error\n",
    "\n",
    "password_input = driver.find_element(by=By.ID, value='password')\n",
    "password_input.send_keys(password)\n",
    "\n",
    "enter = driver.find_element(by=By.XPATH, value=r'//*[@id=\"root\"]//form//button[*[contains(text(), \"Log In\")]]')\n"
   ]
  },
  {
   "cell_type": "code",
   "execution_count": null,
   "id": "020fa737-956b-42db-8493-3ddabe432cb3",
   "metadata": {},
   "outputs": [],
   "source": [
    "# click enter login\n",
    "\n",
    "driver.execute_script(\"arguments[0].click()\", enter)\n",
    "driver.implicitly_wait(2)\n",
    "time.sleep(1)"
   ]
  },
  {
   "cell_type": "code",
   "execution_count": null,
   "id": "46b499a4-01c0-49ce-9ad1-805d30bd5e92",
   "metadata": {},
   "outputs": [],
   "source": [
    "# if another user's using.\n",
    "try:\n",
    "    reject_cookie = WebDriverWait(driver, 3).until(\n",
    "        EC.presence_of_element_located((By.XPATH, '//*[@id=\"onetrust-reject-all-handler\"]')),\n",
    "    )\n",
    "    driver.execute_script(\"arguments[0].click()\", reject_cookie)\n",
    "\n",
    "    try:\n",
    "        modal_continue = r'/html/body//div[contains(@class, \"modal-footer\")]//button[*[contains(text(), \"Continue\")]]'\n",
    "        modal_continue = WebDriverWait(driver, 3).until(\n",
    "            EC.presence_of_element_located((By.XPATH, modal_continue)),\n",
    "            message=\"Cannot access login url - timeout\"\n",
    "        )\n",
    "        print('-- found another user login')\n",
    "        driver.execute_script(\"arguments[0].click()\", modal_continue)\n",
    "    except:\n",
    "        pass   \n",
    "    \n",
    "except:\n",
    "    pass"
   ]
  },
  {
   "cell_type": "code",
   "execution_count": null,
   "id": "6448188e-d521-4be3-b143-45d1ce85fcc8",
   "metadata": {},
   "outputs": [],
   "source": [
    "# close suggestion\n",
    "try:\n",
    "    modal_close_xpath = r'/html/body//button[span[contains(text(), \"Close\")]]'\n",
    "    modal_close = WebDriverWait(driver, 3).until(\n",
    "        EC.presence_of_element_located((By.XPATH, modal_close_xpath)),\n",
    "        message=\"Cannot access login url - timeout\"\n",
    "    )\n",
    "    driver.execute_script(\"arguments[0].click()\", modal_close)\n",
    "except:\n",
    "    pass"
   ]
  },
  {
   "cell_type": "code",
   "execution_count": 28,
   "id": "f403af02-a35b-4060-9cca-8b102cec5e09",
   "metadata": {},
   "outputs": [],
   "source": [
    "# go to finance page\n",
    "driver.get('https://merchant.grab.com/finances')\n",
    "time.sleep(1)"
   ]
  },
  {
   "cell_type": "code",
   "execution_count": null,
   "id": "76f0eafb-5d10-4e19-9c3b-ca9c8c78b5b2",
   "metadata": {},
   "outputs": [
    {
     "name": "stdout",
     "output_type": "stream",
     "text": [
      "---text 11 Nov 2024\n",
      "---tag input\n",
      "---start_date_input <selenium.webdriver.remote.webelement.WebElement (session=\"9dfbd23bbaebce5be40f838f22aa8a8d\", element=\"f.E8CF06716714D760DC1AD665E1FE12E5.d.8A35FFA305559FE2E7ED1219439B70B3.e.121\")>\n",
      "set start date 20 Oct 2024\n",
      "set end date 7 Nov 2024\n"
     ]
    }
   ],
   "source": [
    "# fill date\n",
    "\n",
    "# click date picker\n",
    "try:\n",
    "    toggle_date_picker_xpath = r'//*[@id=\"rc-tabs-0-panel-transactions\"]//div[input[@name=\"mex-datepicker_range-picker\"]]'\n",
    "    date_picker = WebDriverWait(driver, 5).until(\n",
    "        EC.presence_of_element_located((By.XPATH, toggle_date_picker_xpath)),\n",
    "        message=\"Cannot access login url - timeout\"\n",
    "    )\n",
    "    driver.execute_script(\"arguments[0].click()\", date_picker)\n",
    "    driver.implicitly_wait(2)\n",
    "except Exception as error:\n",
    "    print('No date picker')\n",
    "    raise error\n",
    "time.sleep(1)\n",
    "\n",
    "\n",
    "# fill start date\n",
    "start_date_input_xpath = r'/html/body//div[contains(@class, \"rc-calendar-date-input-wrap\")]//input[@placeholder=\"start\"]'\n",
    "start_date_input = WebDriverWait(driver, 10).until(\n",
    "    EC.presence_of_element_located((By.XPATH, start_date_input_xpath)),\n",
    "    message=\"Cannot find start date input\"\n",
    ")\n",
    "\n",
    "text = start_date_input.get_attribute('value')\n",
    "start_date_input.click()\n",
    "driver.execute_script(f\"arguments[0].value=''\", start_date_input)\n",
    "driver.implicitly_wait(1)\n",
    "start_date_input.send_keys(start_date)\n",
    "time.sleep(1)\n",
    "print('set start date', start_date)\n",
    "\n",
    "# fill end date\n",
    "end_date_input_xpath = r'/html/body//div[contains(@class, \"rc-calendar-date-input-wrap\")]//input[@placeholder=\"end\"]'\n",
    "end_date_input = WebDriverWait(driver, 10).until(\n",
    "    EC.presence_of_element_located((By.XPATH, end_date_input_xpath)),\n",
    "    message=\"Cannot find end date input\"\n",
    ")\n",
    "\n",
    "end_date_input.click()\n",
    "driver.execute_script(f\"arguments[0].value=''\", end_date_input)\n",
    "driver.implicitly_wait(1)\n",
    "end_date_input.send_keys(end_date)\n",
    "time.sleep(1)\n",
    "print('set end date', end_date)\n",
    "    \n",
    "driver.execute_script(\"arguments[0].click()\", date_picker)\n",
    "driver.implicitly_wait(1)\n",
    "time.sleep(3)\n"
   ]
  },
  {
   "cell_type": "code",
   "execution_count": null,
   "id": "686a318e",
   "metadata": {},
   "outputs": [],
   "source": [
    "# helper functions\n",
    "def _find_element(element, by: str, by_value: str):\n",
    "    try:\n",
    "        return element.find_element(by, by_value)\n",
    "    except Exception as e:\n",
    "        # Log.extract_log(f\"Not found element: {e.msg}\")\n",
    "        return e\n",
    "    \n",
    "def _find_elements(element, by: str, by_value: str):\n",
    "    try:\n",
    "        return element.find_elements(by, by_value)\n",
    "    except Exception as e:\n",
    "        return e\n",
    "    \n",
    "def wait_fetch_selected_table(by: str, by_value: str):\n",
    "    def _predicate(driver):\n",
    "        select_element = _find_element(driver, by, by_value)\n",
    "        if isinstance(select_element, Exception):\n",
    "            return False\n",
    "        option_elements = _find_elements(select_element, By.TAG_NAME, \"tr\")\n",
    "        if isinstance(option_elements, Exception):\n",
    "            return False\n",
    "\n",
    "        return len(option_elements) > 1\n",
    "\n",
    "    return _predicate\n"
   ]
  },
  {
   "cell_type": "code",
   "execution_count": null,
   "id": "91f40ec6",
   "metadata": {},
   "outputs": [
    {
     "name": "stdout",
     "output_type": "stream",
     "text": [
      "---options  4\n",
      "table_body True\n"
     ]
    }
   ],
   "source": [
    "# wait fetching data\n",
    "\n",
    "try:\n",
    "    table_body_xpath = r'//*[@id=\"rc-tabs-0-panel-transactions\"]//table[@class=\"mex-table\"]/tbody'\n",
    "    table_body = WebDriverWait(driver, 15).until(\n",
    "        wait_fetch_selected_table(By.XPATH, table_body_xpath),\n",
    "        message=\"Cannot fetch transaction detail\"\n",
    "    )\n",
    "    print(\"table_body\", table_body)\n",
    "except Exception as e:\n",
    "    print(\"No table\", table_body)\n",
    "\n",
    "    raise e\n",
    "\n"
   ]
  },
  {
   "cell_type": "code",
   "execution_count": 32,
   "id": "3ec89f20",
   "metadata": {},
   "outputs": [
    {
     "name": "stdout",
     "output_type": "stream",
     "text": [
      "selected_date 20 Oct 2024 - 7 Nov 2024\n"
     ]
    }
   ],
   "source": [
    "# recheck selected date\n",
    "try:\n",
    "    input_date_picker_xpath = r'//*[@id=\"rc-tabs-0-panel-transactions\"]//input[@name=\"mex-datepicker_range-picker\"]'\n",
    "    input_date_picker = WebDriverWait(driver, 5).until(\n",
    "        EC.presence_of_element_located((By.XPATH, input_date_picker_xpath)),\n",
    "        message=\"Cannot access login url - timeout\"\n",
    "    )\n",
    "    selected_date = input_date_picker.get_attribute(\"value\")\n",
    "    print(\"selected_date\", selected_date)\n",
    "    # driver.execute_script(\"arguments[0].click()\", date_picker)\n",
    "    # date_picker.send_keys(\"30 Oct 2024 - 6 Nov 2024\")\n",
    "except:\n",
    "    pass"
   ]
  },
  {
   "cell_type": "code",
   "execution_count": 33,
   "id": "e9ec99c0-825b-4fd5-b1ff-50c7ece5c7e0",
   "metadata": {},
   "outputs": [],
   "source": [
    "# click download\n",
    "time.sleep(1)\n",
    "download_xpath = driver.find_element(By.XPATH, r'//*[@id=\"rc-tabs-0-panel-transactions\"]//button[span/span[contains(text(), \"Download\")]]')\n",
    "driver.execute_script(\"arguments[0].click()\", download_xpath)"
   ]
  },
  {
   "cell_type": "code",
   "execution_count": null,
   "id": "11479871-7c4f-45e5-a4b0-32e90c4f5ba3",
   "metadata": {},
   "outputs": [],
   "source": [
    "# select all \n",
    "time.sleep(1)\n",
    "try:\n",
    "    input_radio_all_xpath = r'//input[@name=\"radio-download\" and @value=\"allTransaction\"]'\n",
    "    radio_input = WebDriverWait(driver, 5).until(\n",
    "        EC.presence_of_element_located((By.XPATH, input_radio_all_xpath)),\n",
    "        message=\"Cannot access login url - timeout\"\n",
    "    )\n",
    "    \n",
    "    radio_input.click()\n",
    "    driver.execute_script(\"arguments[0].checked = true\", radio_input)\n",
    "    driver.implicitly_wait(1)\n",
    "except:\n",
    "    pass\n"
   ]
  },
  {
   "cell_type": "code",
   "execution_count": 35,
   "id": "1eacbb11-46fb-4cf7-b11b-1ed250b38639",
   "metadata": {},
   "outputs": [],
   "source": [
    "# click download\n",
    "time.sleep(1)\n",
    "try:\n",
    "    download_button_xpath = r'/html/body//div[@class=\"modal-footer\"]//button[@data-testid=\"btnDownloadTrxDetail\"]'\n",
    "    download_button = WebDriverWait(driver, 5).until(\n",
    "        EC.presence_of_element_located((By.XPATH, download_button_xpath)),\n",
    "        message=\"No download button - timeout\"\n",
    "    )\n",
    "    driver.execute_script(\"arguments[0].click()\", download_button)\n",
    "    driver.implicitly_wait(2)\n",
    "except:\n",
    "    pass\n"
   ]
  },
  {
   "cell_type": "code",
   "execution_count": null,
   "id": "ab61cd60",
   "metadata": {},
   "outputs": [],
   "source": [
    "# wait download complete\n",
    "\n",
    "def wait_file_download(timeout: int):\n",
    "    timeout = 5\n",
    "    end_time = time.monotonic() + timeout\n",
    "    dl_wait = True\n",
    "    while dl_wait and time.monotonic() <= end_time:\n",
    "        time.sleep(1)\n",
    "        dirs = os.listdir(folder)\n",
    "        count_file = len(dirs)\n",
    "        for filename in dirs:\n",
    "            if filename.endswith('.crdownload'):\n",
    "                print(' downloading', filename)\n",
    "                dl_wait = True\n",
    "                break\n",
    "        else:\n",
    "            dl_wait = False\n",
    "            break\n",
    "\n",
    "wait_file_download(10)  # wait download file for 10 seconds\n"
   ]
  },
  {
   "cell_type": "code",
   "execution_count": null,
   "id": "e25ad114-7000-4ab3-983d-938a73bf0817",
   "metadata": {},
   "outputs": [],
   "source": [
    "# logout\n",
    "time.sleep(1)\n",
    "\n",
    "try:\n",
    "    sidebar_toggle_xpath = r'//*[@id=\"root\"]//button[.//span[@aria-label=\"chevron-right\"]]'\n",
    "    sidebar_toggle = WebDriverWait(driver, 5).until(\n",
    "        EC.presence_of_element_located((By.XPATH, sidebar_toggle_xpath)),\n",
    "        message=\"No download button - timeout\"\n",
    "    )\n",
    "    driver.execute_script(\"arguments[0].click()\", sidebar_toggle)\n",
    "    driver.implicitly_wait(1)\n",
    "except:\n",
    "    pass\n",
    "\n",
    "try:\n",
    "    setting_xpath = r'//*[@id=\"root\"]//button[.//span[@aria-label=\"settings\"]]'\n",
    "    setting = WebDriverWait(driver, 5).until(\n",
    "        EC.presence_of_element_located((By.XPATH, setting_xpath)),\n",
    "        message=\"No download button - timeout\"\n",
    "    )\n",
    "    driver.execute_script(\"arguments[0].click()\", setting)\n",
    "    driver.implicitly_wait(1)\n",
    "\n",
    "except:\n",
    "    pass\n",
    "\n",
    "\n",
    "try:\n",
    "    logout_button_xpath = r'//*[@id=\"root\"]//div[*[contains(text(), \"Log Out\") and @data-testid=\"btnLogOut\"]]'\n",
    "    logout_button = WebDriverWait(driver, 5).until(\n",
    "        EC.presence_of_element_located((By.XPATH, logout_button_xpath)),\n",
    "        message=\"No download button - timeout\"\n",
    "    )\n",
    "    logout_button.click()\n",
    "    driver.execute_script(\"arguments[0].click()\", logout_button)\n",
    "    driver.implicitly_wait(1)\n",
    "except:\n",
    "    pass"
   ]
  },
  {
   "cell_type": "code",
   "execution_count": null,
   "id": "10a5aa9d",
   "metadata": {},
   "outputs": [],
   "source": [
    "# close and quit\n",
    "\n",
    "driver.close()\n",
    "driver.quit()"
   ]
  }
 ],
 "metadata": {
  "kernelspec": {
   "display_name": "venv",
   "language": "python",
   "name": "python3"
  },
  "language_info": {
   "codemirror_mode": {
    "name": "ipython",
    "version": 3
   },
   "file_extension": ".py",
   "mimetype": "text/x-python",
   "name": "python",
   "nbconvert_exporter": "python",
   "pygments_lexer": "ipython3",
   "version": "3.12.4"
  }
 },
 "nbformat": 4,
 "nbformat_minor": 5
}
